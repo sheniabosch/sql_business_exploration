{
  "nbformat": 4,
  "nbformat_minor": 0,
  "metadata": {
    "colab": {
      "provenance": [],
      "include_colab_link": true
    },
    "kernelspec": {
      "name": "python3",
      "display_name": "Python 3"
    },
    "language_info": {
      "name": "python"
    }
  },
  "cells": [
    {
      "cell_type": "markdown",
      "metadata": {
        "id": "view-in-github",
        "colab_type": "text"
      },
      "source": [
        "<a href=\"https://colab.research.google.com/github/sheniabosch/sql_business_exploration/blob/main/Hangman_Game.ipynb\" target=\"_parent\"><img src=\"https://colab.research.google.com/assets/colab-badge.svg\" alt=\"Open In Colab\"/></a>"
      ]
    },
    {
      "cell_type": "markdown",
      "source": [
        "Hangman Game"
      ],
      "metadata": {
        "id": "ftgv5CONqHkw"
      }
    },
    {
      "cell_type": "code",
      "source": [
        "\n",
        "import random\n",
        "\n",
        "print(\"_____HANGMAN GAME_____\\n\")\n",
        "\n",
        "\n",
        "\n",
        "words = (\"aardvark\", \"alligator\", \"alpaca\", \"ant\", \"anteater\", \"antelope\", \"ape\", \"armadillo\", \"baboon\", \"badger\", \"bat\", \"bear\", \"beaver\", \"bee\", \"bison\", \"boar\", \"buffalo\", \"butterfly\", \"camel\", \"capybara\", \"caribou\", \"cat\", \"caterpillar\", \"cattle\", \"chamois\", \"cheetah\", \"chicken\", \"chimpanzee\", \"chinchilla\", \"chough\", \"clam\", \"cobra\", \"cockroach\", \"cod\", \"coyote\", \"crab\", \"crane\", \"crocodile\", \"crow\", \"curlew\", \"deer\", \"dinosaur\", \"dog\", \"dogfish\", \"dolphin\", \"donkey\", \"dormouse\", \"dotterel\", \"dove\", \"dragonfly\", \"duck\", \"dugong\", \"dunlin\", \"eagle\", \"echidna\", \"eel\", \"eland\", \"elephant\",  \"elk\", \"emu\", \"falcon\", \"ferret\", \"finch\", \"fish\", \"flamingo\", \"fly\", \"fox\", \"frog\", \"gaur\", \"gazelle\", \"gerbil\", \"giraffe\", \"gnat\", \"gnu\", \"goat\", \"goldfinch\", \"goldfish\", \"goose\", \"gorilla\", \"goshawk\", \"grasshopper\", \"grouse\", \"guanaco\", \"gull\", \"hamster\", \"hare\", \"hawk\", \"hedgehog\", \"heron\", \"herring\", \"hippopotamus\", \"hornet\", \"horse\", \"human\", \"hummingbird\", \"hyena\", \"ibex\", \"ibis\", \"jackal\", \"jaguar\", \"jay\", \"jellyfish\", \"kangaroo\", \"kingfisher\", \"koala\", \"kookabura\", \"kouprey\", \"kudu\", \"lapwing\", \"lark\", \"lemur\", \"leopard\", \"lion\", \"llama\", \"lobster\", \"locust\", \"loris\", \"louse\", \"lyrebird\", \"magpie\", \"mallard\", \"manatee\", \"mandrill\", \"mantis\", \"marten\", \"meerkat\", \"mink\", \"mole\", \"mongoose\", \"monkey\", \"moose\", \"mosquito\", \"mouse\", \"mule\", \"narwhal\", \"newt\", \"nightingale\", \"octopus\", \"okapi\", \"opossum\", \"oryx\", \"ostrich\", \"otter\", \"owl\", \"ox\", \"oyster\", \"panda\", \"panther\", \"parrot\", \"partridge\", \"peafowl\", \"pelican\", \"penguin\", \"pheasant\", \"pig\", \"pigeon\", \"polar-bear\", \"pony\", \"porcupine\", \"porpoise\", \"quail\", \"quelea\", \"quetzal\", \"rabbit\", \"raccoon\", \"rail\", \"ram\", \"rat\", \"raven\", \"red-deer\", \"red-panda\", \"reindeer\", \"rhinoceros\", \"rook\", \"salamander\", \"salmon\", \"sand-dollar\", \"sandpiper\", \"sardine\", \"scorpion\", \"seahorse\", \"seal\", \"shark\", \"sheep\", \"shrew\", \"skunk\", \"snail\", \"snake\", \"sparrow\", \"spider\", \"spoonbill\", \"squid\", \"squirrel\", \"starling\", \"stingray\", \"stoat\", \"stork\", \"swallow\", \"swan\", \"tapir\", \"tarsier\", \"termite\", \"tiger\", \"toad\", \"trout\", \"turkey\", \"turtle\", \"viper\", \"vulture\", \"wallaby\", \"walrus\", \"wasp\", \"weasel\", \"whale\", \"wildcat\", \"wolf\", \"wolverine\", \"wombat\", \"woodcock\", \"woodpecker\", \"worm\", \"wren\", \"yak\", \"zebra\")\n",
        "\n",
        "hangman_graphic = {0: (\"_______________\",\n",
        "                       \"    |/      :  \",\n",
        "                       \"    |       O  \",\n",
        "                       \"    |          \",\n",
        "                       \"    |          \",\n",
        "                       \"    |          \",\n",
        "                       \"    |          \",\n",
        "                       \"  __|__        \"),\n",
        "\n",
        "                  1: (\"_______________\",\n",
        "                       \"    |/      :  \",\n",
        "                       \"    |       O  \",\n",
        "                       \"    |          \",\n",
        "                       \"    |          \",\n",
        "                       \"    |          \",\n",
        "                       \"    |          \",\n",
        "                       \"  __|__        \"),\n",
        "                   2: (\"_______________\",\n",
        "                       \"    |/      :  \",\n",
        "                       \"    |       O  \",\n",
        "                       \"    |       |  \",\n",
        "                       \"    |          \",\n",
        "                       \"    |          \",\n",
        "                       \"    |          \",\n",
        "                       \"  __|__        \"),\n",
        "                   3: (\"_______________\",\n",
        "                       \"    |/      :  \",\n",
        "                       \"    |       O  \",\n",
        "                       \"    |      /|  \",\n",
        "                       \"    |          \",\n",
        "                       \"    |          \",\n",
        "                       \"    |          \",\n",
        "                       \"  __|__        \"),\n",
        "                   4: (\"_______________\",\n",
        "                       \"    |/      :  \",\n",
        "                       \"    |       O  \",\n",
        "                       \"    |      /|\\\\ \",\n",
        "                       \"    |          \",\n",
        "                       \"    |          \",\n",
        "                       \"    |          \",\n",
        "                       \"  __|__        \"),\n",
        "                   5: (\"_______________\",\n",
        "                       \"    |/      :  \",\n",
        "                       \"    |       O  \",\n",
        "                       \"    |      /|\\\\ \",\n",
        "                       \"    |      /   \",\n",
        "                       \"    |          \",\n",
        "                       \"    |          \",\n",
        "                       \"  __|__        \"),\n",
        "                   6: (\"_______________\",\n",
        "                       \"    |/      :  \",\n",
        "                       \"    |       O  \",\n",
        "                       \"    |      /|\\\\ \",\n",
        "                       \"    |      / \\\\ \",\n",
        "                       \"    |          \",\n",
        "                       \"    |          \",\n",
        "                       \"  __|__        \"),}\n",
        "\n",
        "\n",
        "def show_hangman_graphic(wrong_guess):\n",
        "  for line in hangman_graphic[wrong_guess]:\n",
        "    print(line)\n",
        "\n",
        "def show_gameboard(gameboard):\n",
        "  print(\" \".join(gameboard))\n",
        "\n",
        "def show_answer(answer):\n",
        "  print(\" \".join(answer))\n",
        "\n",
        "def main():\n",
        "  answer = random.choice(words)\n",
        "  gameboard = [\" _ \"] * len(answer)\n",
        "  wrong_guess = 0\n",
        "  max_wrong = 6\n",
        "\n",
        "  while True:\n",
        "    show_hangman_graphic(wrong_guess)\n",
        "    show_gameboard(gameboard)\n",
        "    print(f\"You have {max_wrong - wrong_guess} remaining guesses\")\n",
        "    guess = input(\"Guess a letter: \").lower()\n",
        "\n",
        "\n",
        "\n",
        "    if len(guess) != 1:\n",
        "      print(\"ERROR: Enter only one letter at a time!\")\n",
        "      continue\n",
        "    if not guess.isalpha():\n",
        "      print(\"ERROR: Enter only letters!\")\n",
        "      continue\n",
        "    if guess in set():\n",
        "      print(\"ERROR: You guessed that already, try again!\")\n",
        "      continue\n",
        "\n",
        "    set().add(guess)\n",
        "\n",
        "    if guess in answer:\n",
        "        for i in range(len(answer)):\n",
        "          if answer[i] == guess:\n",
        "            gameboard[i] = guess\n",
        "    else:\n",
        "      wrong_guess += 1\n",
        "      print(\"WRONG! Try Again!\")\n",
        "      remaining_guesses = max_wrong - wrong_guess\n",
        "\n",
        "    if \" _ \" not in gameboard:\n",
        "      show_hangman_graphic(wrong_guess)\n",
        "      show_answer(answer)\n",
        "      print(\"You saved the man! Congratulations!\")\n",
        "      break\n",
        "\n",
        "    if remaining_guesses < 1:\n",
        "\n",
        "      print(\"Oh no! The man got hanged!\")\n",
        "      print(\"The answer was\", answer)\n",
        "      break\n",
        "\n",
        "if __name__ == \"__main__\":\n",
        "  main()\n",
        "\n",
        "\n",
        "\n",
        "\n",
        "\n"
      ],
      "metadata": {
        "colab": {
          "base_uri": "https://localhost:8080/"
        },
        "id": "CcL809o0HdG9",
        "outputId": "3ad5d35f-3861-4a60-e6f0-de4917c99667"
      },
      "execution_count": null,
      "outputs": [
        {
          "output_type": "stream",
          "name": "stdout",
          "text": [
            "_____HANGMAN GAME_____\n",
            "\n",
            "_______________\n",
            "    |/      :  \n",
            "    |       O  \n",
            "    |          \n",
            "    |          \n",
            "    |          \n",
            "    |          \n",
            "  __|__        \n",
            " _   _   _ \n",
            "You have 6 remaining guesses\n"
          ]
        }
      ]
    },
    {
      "cell_type": "code",
      "source": [],
      "metadata": {
        "id": "VbMD-qb33btZ"
      },
      "execution_count": null,
      "outputs": []
    }
  ]
}